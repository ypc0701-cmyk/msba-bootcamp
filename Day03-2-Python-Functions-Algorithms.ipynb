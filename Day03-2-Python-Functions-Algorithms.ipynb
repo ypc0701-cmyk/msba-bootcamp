{
  "cells": [
    {
      "cell_type": "markdown",
      "metadata": {},
      "source": [
        "# Day 3: Functions & Basic Algorithms\n",
        "## Lecture Notebook\n",
        "\n",
        "This notebook is for live coding on functions and basic algorithms (searching and simple aggregations).\n",
        "\n",
        "---\n"
      ]
    },
    {
      "cell_type": "markdown",
      "metadata": {},
      "source": [
        "## 🎯 Goals for This Session\n",
        "- Define and call functions with parameters and return values\n",
        "- Compose functions for clarity and reuse\n",
        "- Implement linear search and manual max\n",
        "\n",
        "---\n"
      ]
    },
    {
      "cell_type": "markdown",
      "metadata": {},
      "source": [
        "## 🧩 Part 1: Functions\n",
        "\n",
        "### Demo 1.1: Summary Function\n",
        "Write `summarize(numbers)` that returns `(count, total, mean)` for list objects.\n"
      ]
    },
    {
      "cell_type": "code",
      "execution_count": null,
      "metadata": {},
      "outputs": [],
      "source": [
        "# Live Code: summarize\n",
        "\n",
        "# def summarize(numbers):\n",
        "#     ...\n",
        "# return count, total, mean\n",
        "\n"
      ]
    },
    {
      "cell_type": "markdown",
      "metadata": {},
      "source": [
        "### Demo 1.2: Parameters and Defaults\n",
        "Write `apply_tax(amount, rate=0.0625)` returning the rounded total.\n"
      ]
    },
    {
      "cell_type": "code",
      "execution_count": null,
      "metadata": {},
      "outputs": [],
      "source": [
        "# Live Code: apply_tax\n",
        "\n",
        "# def apply_tax(amount, rate=0.0625):\n",
        "#     ...\n",
        "# return round(total, 2)\n",
        "\n"
      ]
    },
    {
      "cell_type": "markdown",
      "metadata": {},
      "source": [
        "## 🔍 Part 2: Basic Algorithms\n",
        "\n",
        "### Demo 2.1: Linear Search\n",
        "Implement `find_index(items, target)` to return the first index or `-1`."
      ]
    },
    {
      "cell_type": "code",
      "execution_count": null,
      "metadata": {},
      "outputs": [],
      "source": [
        "# Live Code: find_index\n",
        "\n",
        "# def find_index(items, target):\n",
        "#     ...\n",
        "# return -1\n",
        "\n"
      ]
    },
    {
      "cell_type": "markdown",
      "metadata": {},
      "source": [
        "### Demo 2.2: Simple Sort \n",
        "Here’s a bare-bones outline of selection sort. Convert it into a function to sort lists:\n",
        "\n",
        "1. Start at the first position in the list.\n",
        "2. Find the smallest value in the remaining unsorted part of the list.\n",
        "3. Swap it with the value at the current position.\n",
        "4. Move to the next position and repeat steps 2–3 until the whole list is sorted.\n"
      ]
    },
    {
      "cell_type": "code",
      "execution_count": null,
      "metadata": {},
      "outputs": [],
      "source": [
        "# Live Code: selection sort\n",
        "\n",
        "# def selection_sort(lst):\n",
        "#     ...\n",
        "\n"
      ]
    },
    {
      "cell_type": "markdown",
      "metadata": {},
      "source": [
        "### Demo 2.3: Running Total (Cumulative Sum)\n",
        "Write a function `running_total(numbers)` that returns a new list where each element is the cumulative sum up to that position."
      ]
    },
    {
      "cell_type": "code",
      "execution_count": null,
      "metadata": {},
      "outputs": [],
      "source": [
        "# Live Code: running_total\n",
        "\n",
        "# def running_total(numbers):\n",
        "#     ...\n",
        "# return result\n",
        "\n"
      ]
    },
    {
      "cell_type": "markdown",
      "metadata": {},
      "source": [
        "### Demo 2.4: Order-Preserving Dedup\n",
        "Write a function `dedup_preserve(items)` that removes duplicates while keeping the first occurrence and preserving original order.\n"
      ]
    },
    {
      "cell_type": "code",
      "execution_count": null,
      "metadata": {},
      "outputs": [],
      "source": [
        "# Live Code: dedup_preserve\n",
        "\n",
        "# def dedup_preserve(items):\n",
        "#     ...\n",
        "# return unique_items\n",
        "\n"
      ]
    },
    {
      "cell_type": "markdown",
      "metadata": {},
      "source": [
        "### Demo 2.5\n",
        "Add a docstring for the function you wrote in 2.4"
      ]
    },
    {
      "cell_type": "code",
      "execution_count": null,
      "metadata": {},
      "outputs": [],
      "source": [
        "# Live Code: dedup_preserve with docstring\n",
        "\n",
        "# def dedup_preserve(items):\n",
        "# \"\"\"\n",
        "# ...\n",
        "# \"\"\"\n",
        "# return unique_items"
      ]
    }
  ],
  "metadata": {
    "kernelspec": {
      "display_name": "py_latest",
      "language": "python",
      "name": "python3"
    },
    "language_info": {
      "codemirror_mode": {
        "name": "ipython",
        "version": 3
      },
      "file_extension": ".py",
      "mimetype": "text/x-python",
      "name": "python",
      "nbconvert_exporter": "python",
      "pygments_lexer": "ipython3",
      "version": "3.13.2"
    }
  },
  "nbformat": 4,
  "nbformat_minor": 2
}
