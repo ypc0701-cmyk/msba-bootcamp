{
  "cells": [
    {
      "cell_type": "markdown",
      "metadata": {},
      "source": [
        "# Day 4: Modular Development\n",
        "## Lecture Notebook\n",
        "\n",
        "We practice organizing code into modules and using imports to keep business logic clean and reusable.\n",
        "\n",
        "---\n"
      ]
    },
    {
      "cell_type": "markdown",
      "metadata": {},
      "source": [
        "## 🎯 Learning Goals\n",
        "- Organize business logic into modules\n",
        "- Import functions/classes from modules\n",
        "- Understand `if __name__ == \"__main__\"` guards\n",
        "- Appreciate maintainability and scaling via modular design\n",
        "\n",
        "---\n"
      ]
    },
    {
      "cell_type": "markdown",
      "metadata": {},
      "source": [
        "## 🧩 Part 1: Creating a Simple Module\n",
        "We'll sketch a module `analytics_utils.py` with reusable functions.\n"
      ]
    },
    {
      "cell_type": "code",
      "execution_count": null,
      "metadata": {},
      "outputs": [
        {
          "name": "stdout",
          "output_type": "stream",
          "text": [
            "Writing analytics_utils.py\n"
          ]
        }
      ],
      "source": [
        "%%writefile analytics_utils.py\n",
        "def summarize_sales(sales):\n",
        "    total = sum(sales)\n",
        "    avg = round(total / len(sales), 2) if sales else 0\n",
        "    return {\"total\": total, \"average\": avg}\n",
        "\n",
        "def apply_tax(amount, rate=0.0625):\n",
        "    return round(amount * (1 + rate), 2)\n"
      ]
    },
    {
      "cell_type": "markdown",
      "metadata": {},
      "source": [
        "## 🧪 Part 2: Import and Use the Module\n"
      ]
    },
    {
      "cell_type": "code",
      "execution_count": 4,
      "metadata": {},
      "outputs": [
        {
          "data": {
            "text/plain": [
              "({'total': 363, 'average': 121.0}, 106.25)"
            ]
          },
          "execution_count": 4,
          "metadata": {},
          "output_type": "execute_result"
        }
      ],
      "source": [
        "# Live Code: Import usage (skeleton)\n",
        "\n",
        "from analytics_utils import summarize_sales, apply_tax\n",
        "sales = [120, 98, 145]\n",
        "\n",
        "summary = summarize_sales(sales)\n",
        "taxed = apply_tax(100)\n",
        "summary, taxed\n"
      ]
    }
  ],
  "metadata": {
    "kernelspec": {
      "display_name": "py_latest",
      "language": "python",
      "name": "python3"
    },
    "language_info": {
      "codemirror_mode": {
        "name": "ipython",
        "version": 3
      },
      "file_extension": ".py",
      "mimetype": "text/x-python",
      "name": "python",
      "nbconvert_exporter": "python",
      "pygments_lexer": "ipython3",
      "version": "3.13.2"
    }
  },
  "nbformat": 4,
  "nbformat_minor": 2
}
